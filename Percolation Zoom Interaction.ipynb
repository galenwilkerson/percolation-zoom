{
 "cells": [
  {
   "cell_type": "markdown",
   "id": "b36f8755",
   "metadata": {},
   "source": [
    "# Percolation Zoom Interaction\n",
    "### Galen Wilkerson"
   ]
  },
  {
   "cell_type": "code",
   "execution_count": 2,
   "id": "e5d424cf",
   "metadata": {},
   "outputs": [],
   "source": [
    "from matplotlib import pyplot as plt, animation\n",
    "import networkx as nx\n",
    "import random\n",
    "import numpy as np\n",
    "from scipy.special import comb\n",
    "from time import sleep\n",
    "\n",
    "# from __future__ import print_function\n",
    "from ipywidgets import interact, interactive, fixed, interact_manual\n",
    "import ipywidgets as widgets\n",
    "\n",
    "# %matplotlib notebook\n",
    "\n",
    "#plt.rcParams[\"figure.figsize\"] = [7.50, 3.50]\n",
    "plt.rcParams[\"figure.autolayout\"] = True\n",
    "\n",
    "def f(N = 100, z = 1.0):\n",
    "    \n",
    "    p = z/(N-1)\n",
    "\n",
    "    G = nx.erdos_renyi_graph(N, p)\n",
    "    pos = nx.spring_layout(G)\n",
    "    nx.set_node_attributes(G, pos, 'pos')\n",
    "    \n",
    "    plt.figure()\n",
    "    nx.draw(G, pos, node_size = 300/np.sqrt(N), node_color='k', edge_color = 'grey', with_labels=False);\n",
    "    \n",
    "    \n",
    "# interact(f, N = 10, z = 1.0);\n",
    "interact(f, N=(10,1000,10), z = (0.0, 10.0, .1));"
   ]
  },
  {
   "cell_type": "code",
   "execution_count": null,
   "id": "78814305",
   "metadata": {},
   "outputs": [],
   "source": []
  }
 ],
 "metadata": {
  "kernelspec": {
   "display_name": "Python 3",
   "language": "python",
   "name": "python3"
  },
  "language_info": {
   "codemirror_mode": {
    "name": "ipython",
    "version": 3
   },
   "file_extension": ".py",
   "mimetype": "text/x-python",
   "name": "python",
   "nbconvert_exporter": "python",
   "pygments_lexer": "ipython3",
   "version": "3.7.13"
  }
 },
 "nbformat": 4,
 "nbformat_minor": 5
}
